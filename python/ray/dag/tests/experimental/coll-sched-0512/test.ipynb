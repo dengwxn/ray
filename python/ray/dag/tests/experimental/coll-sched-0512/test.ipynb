{
 "cells": [
  {
   "cell_type": "code",
   "execution_count": 2,
   "metadata": {},
   "outputs": [],
   "source": [
    "import os\n",
    "os.chdir(\"/home/wxdeng/stbr-min/python/ray/dag/tests/experimental\")\n",
    "os.environ[\"RAY_DEDUP_LOGS\"] = \"0\"\n",
    "os.environ[\"RAY_PYTEST_USE_GPU\"] = \"1\""
   ]
  },
  {
   "cell_type": "code",
   "execution_count": 3,
   "metadata": {
    "vscode": {
     "languageId": "shellscript"
    }
   },
   "outputs": [
    {
     "name": "stdout",
     "output_type": "stream",
     "text": [
      "2025-05-13 10:54:52,572\tINFO worker.py:1879 -- Started a local Ray instance. View the dashboard at \u001b[1m\u001b[32m127.0.0.1:8265 \u001b[39m\u001b[22m\n",
      "2025-05-13 10:54:55,478\tINFO torch_tensor_nccl_channel.py:772 -- Creating NCCL group b8e4defb-c952-4806-91e7-bc5ad0999d47 on actors: [Actor(Actor, 5c1797823118c68390de607401000000), Actor(Actor, fb5e179a99d24147e47ff67b01000000)]\n",
      "2025-05-13 10:54:56,710\tINFO torch_tensor_nccl_channel.py:797 -- NCCL group initialized.\n",
      "[INFO ddp.py:48 run_ddp] {Actor(Actor, 5c1797823118c68390de607401000000): [_DAGNodeOperation(exec_task_idx: 0,  type: _DAGNodeOperationType.READ), _DAGNodeOperation(exec_task_idx: 0,  type: _DAGNodeOperationType.COMPUTE), _DAGNodeOperation(exec_task_idx: 0,  type: _DAGNodeOperationType.WRITE), _DAGNodeOperation(exec_task_idx: 1,  type: _DAGNodeOperationType.READ), _DAGNodeOperation(exec_task_idx: 3,  type: _DAGNodeOperationType.READ), _DAGNodeOperation(exec_task_idx: 1,  type: _DAGNodeOperationType.COMPUTE), _DAGNodeOperation(exec_task_idx: 1,  type: _DAGNodeOperationType.WRITE), _DAGNodeOperation(exec_task_idx: 2,  type: _DAGNodeOperationType.READ), _DAGNodeOperation(exec_task_idx: 2,  type: _DAGNodeOperationType.COMPUTE), _DAGNodeOperation(exec_task_idx: 2,  type: _DAGNodeOperationType.WRITE), _DAGNodeOperation(exec_task_idx: 3,  type: _DAGNodeOperationType.COMPUTE), _DAGNodeOperation(exec_task_idx: 3,  type: _DAGNodeOperationType.WRITE), _DAGNodeOperation(exec_task_idx: 4,  type: _DAGNodeOperationType.READ), _DAGNodeOperation(exec_task_idx: 4,  type: _DAGNodeOperationType.COMPUTE), _DAGNodeOperation(exec_task_idx: 4,  type: _DAGNodeOperationType.WRITE), _DAGNodeOperation(exec_task_idx: 5,  type: _DAGNodeOperationType.READ), _DAGNodeOperation(exec_task_idx: 5,  type: _DAGNodeOperationType.COMPUTE), _DAGNodeOperation(exec_task_idx: 5,  type: _DAGNodeOperationType.WRITE)], Actor(Actor, fb5e179a99d24147e47ff67b01000000): [_DAGNodeOperation(exec_task_idx: 0,  type: _DAGNodeOperationType.READ), _DAGNodeOperation(exec_task_idx: 0,  type: _DAGNodeOperationType.COMPUTE), _DAGNodeOperation(exec_task_idx: 0,  type: _DAGNodeOperationType.WRITE), _DAGNodeOperation(exec_task_idx: 1,  type: _DAGNodeOperationType.READ), _DAGNodeOperation(exec_task_idx: 1,  type: _DAGNodeOperationType.COMPUTE), _DAGNodeOperation(exec_task_idx: 1,  type: _DAGNodeOperationType.WRITE), _DAGNodeOperation(exec_task_idx: 2,  type: _DAGNodeOperationType.READ), _DAGNodeOperation(exec_task_idx: 2,  type: _DAGNodeOperationType.COMPUTE), _DAGNodeOperation(exec_task_idx: 2,  type: _DAGNodeOperationType.WRITE), _DAGNodeOperation(exec_task_idx: 3,  type: _DAGNodeOperationType.READ), _DAGNodeOperation(exec_task_idx: 3,  type: _DAGNodeOperationType.COMPUTE), _DAGNodeOperation(exec_task_idx: 3,  type: _DAGNodeOperationType.WRITE), _DAGNodeOperation(exec_task_idx: 4,  type: _DAGNodeOperationType.READ), _DAGNodeOperation(exec_task_idx: 4,  type: _DAGNodeOperationType.COMPUTE), _DAGNodeOperation(exec_task_idx: 4,  type: _DAGNodeOperationType.WRITE), _DAGNodeOperation(exec_task_idx: 5,  type: _DAGNodeOperationType.READ), _DAGNodeOperation(exec_task_idx: 5,  type: _DAGNodeOperationType.COMPUTE), _DAGNodeOperation(exec_task_idx: 5,  type: _DAGNodeOperationType.WRITE)]}\n",
      "2025-05-13 10:54:56,904\tINFO compiled_dag_node.py:2173 -- Tearing down compiled DAG\n",
      "2025-05-13 10:54:56,911\tINFO compiled_dag_node.py:2178 -- Cancelling compiled worker on actor: Actor(Actor, 5c1797823118c68390de607401000000)\n",
      "2025-05-13 10:54:56,911\tINFO compiled_dag_node.py:2178 -- Cancelling compiled worker on actor: Actor(Actor, fb5e179a99d24147e47ff67b01000000)\n",
      "\u001b[36m(Actor pid=185731)\u001b[0m Destructing NCCL group on actor: Actor(Actor, fb5e179a99d24147e47ff67b01000000)\n",
      "\u001b[36m(Actor pid=185732)\u001b[0m Destructing NCCL group on actor: Actor(Actor, 5c1797823118c68390de607401000000)\n",
      "2025-05-13 10:54:57,713\tINFO compiled_dag_node.py:2200 -- Waiting for worker tasks to exit\n",
      "2025-05-13 10:54:57,714\tINFO compiled_dag_node.py:2161 -- Killing actor: Actor(Actor, 5c1797823118c68390de607401000000)\n",
      "2025-05-13 10:54:57,714\tINFO compiled_dag_node.py:2161 -- Killing actor: Actor(Actor, fb5e179a99d24147e47ff67b01000000)\n",
      "2025-05-13 10:54:57,714\tINFO compiled_dag_node.py:2203 -- Teardown complete\n",
      "\u001b[0m"
     ]
    }
   ],
   "source": [
    "!python -m coll-sched-0512.ddp --name ddp"
   ]
  },
  {
   "cell_type": "code",
   "execution_count": 6,
   "metadata": {
    "vscode": {
     "languageId": "shellscript"
    }
   },
   "outputs": [
    {
     "name": "stdout",
     "output_type": "stream",
     "text": [
      "\u001b[1m============================= test session starts ==============================\u001b[0m\n",
      "platform linux -- Python 3.9.22, pytest-8.3.5, pluggy-1.5.0 -- /home/wxdeng/miniconda3/envs/coll-sched-0512-py39/bin/python\n",
      "cachedir: .pytest_cache\n",
      "rootdir: /home/wxdeng/stbr-min\n",
      "configfile: pytest.ini\n",
      "plugins: anyio-4.9.0\n",
      "collected 1 item                                                               \u001b[0m\u001b[1m\n",
      "\n",
      "test_coll_sched.py::test_simple[2-ray_start_regular0] 2025-05-13 10:58:05,873\tINFO worker.py:1879 -- Started a local Ray instance. View the dashboard at \u001b[1m\u001b[32m127.0.0.1:8265 \u001b[39m\u001b[22m\n",
      "2025-05-13 10:58:08,261\tINFO torch_tensor_nccl_channel.py:772 -- Creating NCCL group 76cc4c9f-6f09-4639-b67c-0340dc951fb3 on actors: [Actor(Actor, 9bffafb69b2f6d9c499d294001000000), Actor(Actor, 1df67702b5578bca805c61f601000000)]\n",
      "2025-05-13 10:58:09,491\tINFO torch_tensor_nccl_channel.py:797 -- NCCL group initialized.\n",
      "{Actor(Actor, 9bffafb69b2f6d9c499d294001000000): [_DAGNodeOperation(exec_task_idx: 0,  type: _DAGNodeOperationType.READ), _DAGNodeOperation(exec_task_idx: 0,  type: _DAGNodeOperationType.COMPUTE), _DAGNodeOperation(exec_task_idx: 0,  type: _DAGNodeOperationType.WRITE), _DAGNodeOperation(exec_task_idx: 1,  type: _DAGNodeOperationType.READ), _DAGNodeOperation(exec_task_idx: 3,  type: _DAGNodeOperationType.READ), _DAGNodeOperation(exec_task_idx: 1,  type: _DAGNodeOperationType.COMPUTE), _DAGNodeOperation(exec_task_idx: 1,  type: _DAGNodeOperationType.WRITE), _DAGNodeOperation(exec_task_idx: 2,  type: _DAGNodeOperationType.READ), _DAGNodeOperation(exec_task_idx: 2,  type: _DAGNodeOperationType.COMPUTE), _DAGNodeOperation(exec_task_idx: 2,  type: _DAGNodeOperationType.WRITE), _DAGNodeOperation(exec_task_idx: 3,  type: _DAGNodeOperationType.COMPUTE), _DAGNodeOperation(exec_task_idx: 3,  type: _DAGNodeOperationType.WRITE), _DAGNodeOperation(exec_task_idx: 4,  type: _DAGNodeOperationType.READ), _DAGNodeOperation(exec_task_idx: 4,  type: _DAGNodeOperationType.COMPUTE), _DAGNodeOperation(exec_task_idx: 4,  type: _DAGNodeOperationType.WRITE), _DAGNodeOperation(exec_task_idx: 5,  type: _DAGNodeOperationType.READ), _DAGNodeOperation(exec_task_idx: 5,  type: _DAGNodeOperationType.COMPUTE), _DAGNodeOperation(exec_task_idx: 5,  type: _DAGNodeOperationType.WRITE)], Actor(Actor, 1df67702b5578bca805c61f601000000): [_DAGNodeOperation(exec_task_idx: 0,  type: _DAGNodeOperationType.READ), _DAGNodeOperation(exec_task_idx: 0,  type: _DAGNodeOperationType.COMPUTE), _DAGNodeOperation(exec_task_idx: 0,  type: _DAGNodeOperationType.WRITE), _DAGNodeOperation(exec_task_idx: 1,  type: _DAGNodeOperationType.READ), _DAGNodeOperation(exec_task_idx: 1,  type: _DAGNodeOperationType.COMPUTE), _DAGNodeOperation(exec_task_idx: 1,  type: _DAGNodeOperationType.WRITE), _DAGNodeOperation(exec_task_idx: 2,  type: _DAGNodeOperationType.READ), _DAGNodeOperation(exec_task_idx: 2,  type: _DAGNodeOperationType.COMPUTE), _DAGNodeOperation(exec_task_idx: 2,  type: _DAGNodeOperationType.WRITE), _DAGNodeOperation(exec_task_idx: 3,  type: _DAGNodeOperationType.READ), _DAGNodeOperation(exec_task_idx: 3,  type: _DAGNodeOperationType.COMPUTE), _DAGNodeOperation(exec_task_idx: 3,  type: _DAGNodeOperationType.WRITE), _DAGNodeOperation(exec_task_idx: 4,  type: _DAGNodeOperationType.READ), _DAGNodeOperation(exec_task_idx: 4,  type: _DAGNodeOperationType.COMPUTE), _DAGNodeOperation(exec_task_idx: 4,  type: _DAGNodeOperationType.WRITE), _DAGNodeOperation(exec_task_idx: 5,  type: _DAGNodeOperationType.READ), _DAGNodeOperation(exec_task_idx: 5,  type: _DAGNodeOperationType.COMPUTE), _DAGNodeOperation(exec_task_idx: 5,  type: _DAGNodeOperationType.WRITE)]}\n",
      "\u001b[32mPASSED\u001b[0m2025-05-13 10:58:09,699\tINFO compiled_dag_node.py:2173 -- Tearing down compiled DAG\n",
      "2025-05-13 10:58:09,705\tINFO compiled_dag_node.py:2178 -- Cancelling compiled worker on actor: Actor(Actor, 9bffafb69b2f6d9c499d294001000000)\n",
      "2025-05-13 10:58:09,706\tINFO compiled_dag_node.py:2178 -- Cancelling compiled worker on actor: Actor(Actor, 1df67702b5578bca805c61f601000000)\n",
      "\u001b[36m(Actor pid=194144)\u001b[0m Destructing NCCL group on actor: Actor(Actor, 9bffafb69b2f6d9c499d294001000000)\n",
      "\u001b[36m(Actor pid=194143)\u001b[0m Destructing NCCL group on actor: Actor(Actor, 1df67702b5578bca805c61f601000000)\n",
      "2025-05-13 10:58:10,495\tINFO compiled_dag_node.py:2200 -- Waiting for worker tasks to exit\n",
      "2025-05-13 10:58:10,496\tINFO compiled_dag_node.py:2161 -- Killing actor: Actor(Actor, 9bffafb69b2f6d9c499d294001000000)\n",
      "2025-05-13 10:58:10,496\tINFO compiled_dag_node.py:2161 -- Killing actor: Actor(Actor, 1df67702b5578bca805c61f601000000)\n",
      "2025-05-13 10:58:10,497\tINFO compiled_dag_node.py:2203 -- Teardown complete\n",
      "\n",
      "\n",
      "\u001b[32m============================== \u001b[32m\u001b[1m1 passed\u001b[0m\u001b[32m in 10.86s\u001b[0m\u001b[32m ==============================\u001b[0m\n",
      "\u001b[0m"
     ]
    }
   ],
   "source": [
    "!python -m pytest -v -s test_coll_sched.py"
   ]
  }
 ],
 "metadata": {
  "language_info": {
   "name": "python"
  }
 },
 "nbformat": 4,
 "nbformat_minor": 2
}

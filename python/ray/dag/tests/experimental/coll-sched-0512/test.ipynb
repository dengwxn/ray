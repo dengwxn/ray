{
 "cells": [
  {
   "cell_type": "code",
   "execution_count": 1,
   "metadata": {},
   "outputs": [],
   "source": [
    "import os\n",
    "os.chdir(\"/home/wxdeng/stbr-min/python/ray/dag/tests/experimental\")\n",
    "os.environ[\"RAY_DEDUP_LOGS\"] = \"0\"\n",
    "os.environ[\"RAY_PYTEST_USE_GPU\"] = \"1\""
   ]
  },
  {
   "cell_type": "code",
   "execution_count": 15,
   "metadata": {
    "vscode": {
     "languageId": "shellscript"
    }
   },
   "outputs": [
    {
     "name": "stdout",
     "output_type": "stream",
     "text": [
      "2025-05-13 19:34:58,785\tINFO worker.py:1879 -- Started a local Ray instance. View the dashboard at \u001b[1m\u001b[32mhttp://127.0.0.1:8265 \u001b[39m\u001b[22m\n",
      "2025-05-13 19:35:06,701\tINFO torch_tensor_nccl_channel.py:772 -- Creating NCCL group fce84e9f-58af-4da0-9f3c-37b647f07d84 on actors: [Actor(Actor, f517523662fd3be9a2e3609501000000), Actor(Actor, abb2ce5b8dd435548083118a01000000)]\n",
      "2025-05-13 19:35:12,830\tINFO torch_tensor_nccl_channel.py:797 -- NCCL group initialized.\n",
      "[INFO ddp.py:46 run_ddp] [_DAGNodeOperation(exec_task_idx: 0,  type: _DAGNodeOperationType.READ), _DAGNodeOperation(exec_task_idx: 0,  type: _DAGNodeOperationType.COMPUTE), _DAGNodeOperation(exec_task_idx: 0,  type: _DAGNodeOperationType.WRITE), _DAGNodeOperation(exec_task_idx: 1,  type: _DAGNodeOperationType.READ), _DAGNodeOperation(exec_task_idx: 2,  type: _DAGNodeOperationType.READ), _DAGNodeOperation(exec_task_idx: 1,  type: _DAGNodeOperationType.COMPUTE), _DAGNodeOperation(exec_task_idx: 1,  type: _DAGNodeOperationType.WRITE), _DAGNodeOperation(exec_task_idx: 2,  type: _DAGNodeOperationType.COMPUTE), _DAGNodeOperation(exec_task_idx: 2,  type: _DAGNodeOperationType.WRITE), _DAGNodeOperation(exec_task_idx: 3,  type: _DAGNodeOperationType.READ), _DAGNodeOperation(exec_task_idx: 3,  type: _DAGNodeOperationType.COMPUTE), _DAGNodeOperation(exec_task_idx: 3,  type: _DAGNodeOperationType.WRITE)]\n",
      "[INFO ddp.py:46 run_ddp] [_DAGNodeOperation(exec_task_idx: 0,  type: _DAGNodeOperationType.READ), _DAGNodeOperation(exec_task_idx: 0,  type: _DAGNodeOperationType.COMPUTE), _DAGNodeOperation(exec_task_idx: 0,  type: _DAGNodeOperationType.WRITE), _DAGNodeOperation(exec_task_idx: 1,  type: _DAGNodeOperationType.READ), _DAGNodeOperation(exec_task_idx: 1,  type: _DAGNodeOperationType.COMPUTE), _DAGNodeOperation(exec_task_idx: 1,  type: _DAGNodeOperationType.WRITE), _DAGNodeOperation(exec_task_idx: 2,  type: _DAGNodeOperationType.READ), _DAGNodeOperation(exec_task_idx: 2,  type: _DAGNodeOperationType.COMPUTE), _DAGNodeOperation(exec_task_idx: 2,  type: _DAGNodeOperationType.WRITE), _DAGNodeOperation(exec_task_idx: 3,  type: _DAGNodeOperationType.READ), _DAGNodeOperation(exec_task_idx: 3,  type: _DAGNodeOperationType.COMPUTE), _DAGNodeOperation(exec_task_idx: 3,  type: _DAGNodeOperationType.WRITE)]\n",
      "[ERROR ddp.py:53 run_ddp] op1: _DAGNodeOperation(exec_task_idx: 2,  type: _DAGNodeOperationType.READ), op2: _DAGNodeOperation(exec_task_idx: 1,  type: _DAGNodeOperationType.COMPUTE)\n",
      "[ERROR ddp.py:59 run_ddp] Actor schedules are not equal\n",
      "2025-05-13 19:35:12,979\tINFO compiled_dag_node.py:2173 -- Tearing down compiled DAG\n",
      "2025-05-13 19:35:12,983\tINFO compiled_dag_node.py:2178 -- Cancelling compiled worker on actor: Actor(Actor, f517523662fd3be9a2e3609501000000)\n",
      "2025-05-13 19:35:12,983\tINFO compiled_dag_node.py:2178 -- Cancelling compiled worker on actor: Actor(Actor, abb2ce5b8dd435548083118a01000000)\n",
      "\u001b[36m(Actor pid=3532577)\u001b[0m Destructing NCCL group on actor: Actor(Actor, f517523662fd3be9a2e3609501000000)\n",
      "\u001b[36m(Actor pid=3532575)\u001b[0m Destructing NCCL group on actor: Actor(Actor, abb2ce5b8dd435548083118a01000000)\n",
      "2025-05-13 19:35:13,854\tINFO compiled_dag_node.py:2200 -- Waiting for worker tasks to exit\n",
      "2025-05-13 19:35:13,855\tINFO compiled_dag_node.py:2161 -- Killing actor: Actor(Actor, f517523662fd3be9a2e3609501000000)\n",
      "2025-05-13 19:35:13,856\tINFO compiled_dag_node.py:2161 -- Killing actor: Actor(Actor, abb2ce5b8dd435548083118a01000000)\n",
      "2025-05-13 19:35:13,856\tINFO compiled_dag_node.py:2203 -- Teardown complete\n",
      "\u001b[0m"
     ]
    }
   ],
   "source": [
    "!python -m coll-sched-0512.ddp --name ddp"
   ]
  },
  {
   "cell_type": "code",
   "execution_count": null,
   "metadata": {
    "vscode": {
     "languageId": "shellscript"
    }
   },
   "outputs": [],
   "source": [
    "!python -m pytest -v -s test_coll_sched.py"
   ]
  }
 ],
 "metadata": {
  "kernelspec": {
   "display_name": "stbr-coll-sched-0512",
   "language": "python",
   "name": "python3"
  },
  "language_info": {
   "codemirror_mode": {
    "name": "ipython",
    "version": 3
   },
   "file_extension": ".py",
   "mimetype": "text/x-python",
   "name": "python",
   "nbconvert_exporter": "python",
   "pygments_lexer": "ipython3",
   "version": "3.13.3"
  }
 },
 "nbformat": 4,
 "nbformat_minor": 2
}

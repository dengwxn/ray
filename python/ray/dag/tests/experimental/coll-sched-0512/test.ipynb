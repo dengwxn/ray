{
 "cells": [
  {
   "cell_type": "code",
   "execution_count": 1,
   "metadata": {},
   "outputs": [],
   "source": [
    "import os\n",
    "os.chdir(\"/home/wxdeng/stbr-min/python/ray/dag/tests/experimental\")\n",
    "os.environ[\"RAY_DEDUP_LOGS\"] = \"0\"\n",
    "os.environ[\"RAY_PYTEST_USE_GPU\"] = \"1\"\n",
    "os.environ[\"RAY_CGRAPH_VISUALIZE_SCHEDULE\"] = \"1\""
   ]
  },
  {
   "cell_type": "code",
   "execution_count": 5,
   "metadata": {
    "vscode": {
     "languageId": "shellscript"
    }
   },
   "outputs": [
    {
     "name": "stdout",
     "output_type": "stream",
     "text": [
      "2025-05-14 00:21:10,975\tINFO worker.py:1879 -- Started a local Ray instance. View the dashboard at \u001b[1m\u001b[32mhttp://127.0.0.1:8265 \u001b[39m\u001b[22m\n",
      "2025-05-14 00:21:15,213\tINFO torch_tensor_nccl_channel.py:772 -- Creating NCCL group 092eb89c-5f22-4620-ba5b-c81a0bb35838 on actors: [Actor(Actor, c34a99bf64e99ff897a8188a01000000), Actor(Actor, b9ada918cc0ffcf0acaea8bb01000000)]\n",
      "2025-05-14 00:21:19,526\tINFO torch_tensor_nccl_channel.py:797 -- NCCL group initialized.\n",
      "2025-05-14 00:21:19,692\tINFO dag_node_operation.py:628 -- Writing compiled graph schedule visualization to compiled_graph_schedule.png\n",
      "2025-05-14 00:21:20,015\tINFO compiled_dag_node.py:2173 -- Tearing down compiled DAG\n",
      "2025-05-14 00:21:20,020\tINFO compiled_dag_node.py:2178 -- Cancelling compiled worker on actor: Actor(Actor, c34a99bf64e99ff897a8188a01000000)\n",
      "2025-05-14 00:21:20,020\tINFO compiled_dag_node.py:2178 -- Cancelling compiled worker on actor: Actor(Actor, b9ada918cc0ffcf0acaea8bb01000000)\n",
      "\u001b[36m(Actor pid=3706666)\u001b[0m Destructing NCCL group on actor: Actor(Actor, c34a99bf64e99ff897a8188a01000000)\n",
      "\u001b[36m(Actor pid=3706688)\u001b[0m Destructing NCCL group on actor: Actor(Actor, b9ada918cc0ffcf0acaea8bb01000000)\n",
      "2025-05-14 00:21:20,887\tINFO compiled_dag_node.py:2200 -- Waiting for worker tasks to exit\n",
      "2025-05-14 00:21:20,888\tINFO compiled_dag_node.py:2161 -- Killing actor: Actor(Actor, c34a99bf64e99ff897a8188a01000000)\n",
      "2025-05-14 00:21:20,889\tINFO compiled_dag_node.py:2161 -- Killing actor: Actor(Actor, b9ada918cc0ffcf0acaea8bb01000000)\n",
      "2025-05-14 00:21:20,889\tINFO compiled_dag_node.py:2203 -- Teardown complete\n",
      "2025-05-14 00:21:28,065\tINFO worker.py:1879 -- Started a local Ray instance. View the dashboard at \u001b[1m\u001b[32mhttp://127.0.0.1:8265 \u001b[39m\u001b[22m\n",
      "2025-05-14 00:21:32,382\tINFO torch_tensor_nccl_channel.py:772 -- Creating NCCL group 28e9e512-2632-4708-aa30-94e98d014ead on actors: [Actor(Actor, 8df7c6f1966539202be4c0f101000000), Actor(Actor, 444d696be60bc7400d1da6b501000000), Actor(Actor, 678c955e9a46159572dd6cb901000000), Actor(Actor, 09fe160beb7b03a67842d5d601000000)]\n",
      "2025-05-14 00:21:38,047\tINFO torch_tensor_nccl_channel.py:797 -- NCCL group initialized.\n",
      "2025-05-14 00:21:38,337\tINFO dag_node_operation.py:628 -- Writing compiled graph schedule visualization to compiled_graph_schedule.png\n",
      "2025-05-14 00:21:38,844\tINFO compiled_dag_node.py:2173 -- Tearing down compiled DAG\n",
      "2025-05-14 00:21:38,851\tINFO compiled_dag_node.py:2178 -- Cancelling compiled worker on actor: Actor(Actor, 8df7c6f1966539202be4c0f101000000)\n",
      "2025-05-14 00:21:38,852\tINFO compiled_dag_node.py:2178 -- Cancelling compiled worker on actor: Actor(Actor, 444d696be60bc7400d1da6b501000000)\n",
      "2025-05-14 00:21:38,852\tINFO compiled_dag_node.py:2178 -- Cancelling compiled worker on actor: Actor(Actor, 678c955e9a46159572dd6cb901000000)\n",
      "2025-05-14 00:21:38,852\tINFO compiled_dag_node.py:2178 -- Cancelling compiled worker on actor: Actor(Actor, 09fe160beb7b03a67842d5d601000000)\n",
      "\u001b[36m(Actor pid=3724952)\u001b[0m Destructing NCCL group on actor: Actor(Actor, 444d696be60bc7400d1da6b501000000)\n",
      "\u001b[36m(Actor pid=3724948)\u001b[0m Destructing NCCL group on actor: Actor(Actor, 09fe160beb7b03a67842d5d601000000)\n",
      "\u001b[36m(Actor pid=3724945)\u001b[0m Destructing NCCL group on actor: Actor(Actor, 678c955e9a46159572dd6cb901000000)\n",
      "\u001b[36m(Actor pid=3724963)\u001b[0m Destructing NCCL group on actor: Actor(Actor, 8df7c6f1966539202be4c0f101000000)\n",
      "2025-05-14 00:21:39,898\tINFO compiled_dag_node.py:2200 -- Waiting for worker tasks to exit\n",
      "2025-05-14 00:21:39,899\tINFO compiled_dag_node.py:2161 -- Killing actor: Actor(Actor, 8df7c6f1966539202be4c0f101000000)\n",
      "2025-05-14 00:21:39,899\tINFO compiled_dag_node.py:2161 -- Killing actor: Actor(Actor, 444d696be60bc7400d1da6b501000000)\n",
      "2025-05-14 00:21:39,899\tINFO compiled_dag_node.py:2161 -- Killing actor: Actor(Actor, 678c955e9a46159572dd6cb901000000)\n",
      "2025-05-14 00:21:39,899\tINFO compiled_dag_node.py:2161 -- Killing actor: Actor(Actor, 09fe160beb7b03a67842d5d601000000)\n",
      "2025-05-14 00:21:39,899\tINFO compiled_dag_node.py:2203 -- Teardown complete\n",
      "2025-05-14 00:21:46,219\tINFO worker.py:1879 -- Started a local Ray instance. View the dashboard at \u001b[1m\u001b[32mhttp://127.0.0.1:8265 \u001b[39m\u001b[22m\n",
      "2025-05-14 00:21:51,883\tINFO torch_tensor_nccl_channel.py:772 -- Creating NCCL group 8543da94-e76e-4db7-8987-316ab590563e on actors: [Actor(Actor, 15226e81c8a57a163551893501000000), Actor(Actor, f306fc11374a6bc061c2e14c01000000), Actor(Actor, 90658065c760f1033108ebe001000000), Actor(Actor, 286c070782b744004b3b8b4901000000), Actor(Actor, 61b46bc4eb2ac0f9de809a7b01000000), Actor(Actor, e560e2042494874e334ef3d501000000), Actor(Actor, 5bd32ced761b2518e7ce86f101000000), Actor(Actor, d4c2f43913ad77e6e7cef68001000000)]\n",
      "2025-05-14 00:22:01,799\tINFO torch_tensor_nccl_channel.py:797 -- NCCL group initialized.\n",
      "2025-05-14 00:22:02,342\tINFO dag_node_operation.py:628 -- Writing compiled graph schedule visualization to compiled_graph_schedule.png\n",
      "2025-05-14 00:22:03,182\tINFO compiled_dag_node.py:2173 -- Tearing down compiled DAG\n",
      "2025-05-14 00:22:03,198\tINFO compiled_dag_node.py:2178 -- Cancelling compiled worker on actor: Actor(Actor, 15226e81c8a57a163551893501000000)\n",
      "2025-05-14 00:22:03,198\tINFO compiled_dag_node.py:2178 -- Cancelling compiled worker on actor: Actor(Actor, f306fc11374a6bc061c2e14c01000000)\n",
      "2025-05-14 00:22:03,198\tINFO compiled_dag_node.py:2178 -- Cancelling compiled worker on actor: Actor(Actor, 90658065c760f1033108ebe001000000)\n",
      "2025-05-14 00:22:03,198\tINFO compiled_dag_node.py:2178 -- Cancelling compiled worker on actor: Actor(Actor, 286c070782b744004b3b8b4901000000)\n",
      "2025-05-14 00:22:03,198\tINFO compiled_dag_node.py:2178 -- Cancelling compiled worker on actor: Actor(Actor, 61b46bc4eb2ac0f9de809a7b01000000)\n",
      "2025-05-14 00:22:03,198\tINFO compiled_dag_node.py:2178 -- Cancelling compiled worker on actor: Actor(Actor, e560e2042494874e334ef3d501000000)\n",
      "2025-05-14 00:22:03,198\tINFO compiled_dag_node.py:2178 -- Cancelling compiled worker on actor: Actor(Actor, 5bd32ced761b2518e7ce86f101000000)\n",
      "2025-05-14 00:22:03,198\tINFO compiled_dag_node.py:2178 -- Cancelling compiled worker on actor: Actor(Actor, d4c2f43913ad77e6e7cef68001000000)\n",
      "\u001b[36m(Actor pid=3743753)\u001b[0m Destructing NCCL group on actor: Actor(Actor, 5bd32ced761b2518e7ce86f101000000)\n",
      "\u001b[36m(Actor pid=3743757)\u001b[0m Destructing NCCL group on actor: Actor(Actor, 90658065c760f1033108ebe001000000)\n",
      "\u001b[36m(Actor pid=3743762)\u001b[0m Destructing NCCL group on actor: Actor(Actor, d4c2f43913ad77e6e7cef68001000000)\n",
      "\u001b[36m(Actor pid=3743755)\u001b[0m Destructing NCCL group on actor: Actor(Actor, 61b46bc4eb2ac0f9de809a7b01000000)\n",
      "\u001b[36m(Actor pid=3743756)\u001b[0m Destructing NCCL group on actor: Actor(Actor, 15226e81c8a57a163551893501000000)\n",
      "\u001b[36m(Actor pid=3743752)\u001b[0m Destructing NCCL group on actor: Actor(Actor, f306fc11374a6bc061c2e14c01000000)\n",
      "\u001b[36m(Actor pid=3743760)\u001b[0m Destructing NCCL group on actor: Actor(Actor, 286c070782b744004b3b8b4901000000)\n",
      "\u001b[36m(Actor pid=3743765)\u001b[0m Destructing NCCL group on actor: Actor(Actor, e560e2042494874e334ef3d501000000)\n",
      "2025-05-14 00:22:04,238\tINFO compiled_dag_node.py:2200 -- Waiting for worker tasks to exit\n",
      "2025-05-14 00:22:04,239\tINFO compiled_dag_node.py:2161 -- Killing actor: Actor(Actor, 15226e81c8a57a163551893501000000)\n",
      "2025-05-14 00:22:04,239\tINFO compiled_dag_node.py:2161 -- Killing actor: Actor(Actor, f306fc11374a6bc061c2e14c01000000)\n",
      "2025-05-14 00:22:04,239\tINFO compiled_dag_node.py:2161 -- Killing actor: Actor(Actor, 90658065c760f1033108ebe001000000)\n",
      "2025-05-14 00:22:04,239\tINFO compiled_dag_node.py:2161 -- Killing actor: Actor(Actor, 286c070782b744004b3b8b4901000000)\n",
      "2025-05-14 00:22:04,239\tINFO compiled_dag_node.py:2161 -- Killing actor: Actor(Actor, 61b46bc4eb2ac0f9de809a7b01000000)\n",
      "2025-05-14 00:22:04,240\tINFO compiled_dag_node.py:2161 -- Killing actor: Actor(Actor, e560e2042494874e334ef3d501000000)\n",
      "2025-05-14 00:22:04,240\tINFO compiled_dag_node.py:2161 -- Killing actor: Actor(Actor, 5bd32ced761b2518e7ce86f101000000)\n",
      "2025-05-14 00:22:04,240\tINFO compiled_dag_node.py:2161 -- Killing actor: Actor(Actor, d4c2f43913ad77e6e7cef68001000000)\n",
      "2025-05-14 00:22:04,240\tINFO compiled_dag_node.py:2203 -- Teardown complete\n",
      "\u001b[0m"
     ]
    }
   ],
   "source": [
    "!python -m coll-sched-0512.ddp --name ddp_bench"
   ]
  },
  {
   "cell_type": "code",
   "execution_count": 4,
   "metadata": {
    "vscode": {
     "languageId": "shellscript"
    }
   },
   "outputs": [
    {
     "name": "stdout",
     "output_type": "stream",
     "text": [
      "2025-05-14 00:20:27,500\tINFO worker.py:1879 -- Started a local Ray instance. View the dashboard at \u001b[1m\u001b[32mhttp://127.0.0.1:8265 \u001b[39m\u001b[22m\n",
      "2025-05-14 00:20:32,060\tINFO torch_tensor_nccl_channel.py:772 -- Creating NCCL group 48aeed99-14f3-450e-8020-5035338e3042 on actors: [Actor(Actor, 4da5a70b8086c7d41ba5546d01000000), Actor(Actor, 63cd6e1285c0533b95a23e9601000000)]\n",
      "2025-05-14 00:20:35,435\tINFO torch_tensor_nccl_channel.py:797 -- NCCL group initialized.\n",
      "2025-05-14 00:20:35,587\tINFO dag_node_operation.py:628 -- Writing compiled graph schedule visualization to compiled_graph_schedule.png\n",
      "2025-05-14 00:20:35,909\tINFO compiled_dag_node.py:2173 -- Tearing down compiled DAG\n",
      "2025-05-14 00:20:35,913\tINFO compiled_dag_node.py:2178 -- Cancelling compiled worker on actor: Actor(Actor, 4da5a70b8086c7d41ba5546d01000000)\n",
      "2025-05-14 00:20:35,913\tINFO compiled_dag_node.py:2178 -- Cancelling compiled worker on actor: Actor(Actor, 63cd6e1285c0533b95a23e9601000000)\n",
      "\u001b[36m(Actor pid=3682974)\u001b[0m Destructing NCCL group on actor: Actor(Actor, 63cd6e1285c0533b95a23e9601000000)\n",
      "\u001b[36m(Actor pid=3683012)\u001b[0m Destructing NCCL group on actor: Actor(Actor, 4da5a70b8086c7d41ba5546d01000000)\n",
      "2025-05-14 00:20:36,916\tINFO compiled_dag_node.py:2200 -- Waiting for worker tasks to exit\n",
      "2025-05-14 00:20:36,917\tINFO compiled_dag_node.py:2161 -- Killing actor: Actor(Actor, 4da5a70b8086c7d41ba5546d01000000)\n",
      "2025-05-14 00:20:36,917\tINFO compiled_dag_node.py:2161 -- Killing actor: Actor(Actor, 63cd6e1285c0533b95a23e9601000000)\n",
      "2025-05-14 00:20:36,917\tINFO compiled_dag_node.py:2203 -- Teardown complete\n",
      "\u001b[0m"
     ]
    }
   ],
   "source": [
    "!python -m coll-sched-0512.ddp --name ddp"
   ]
  },
  {
   "cell_type": "code",
   "execution_count": null,
   "metadata": {
    "vscode": {
     "languageId": "shellscript"
    }
   },
   "outputs": [],
   "source": [
    "!python -m pytest -v -s test_coll_sched.py"
   ]
  },
  {
   "cell_type": "code",
   "execution_count": null,
   "metadata": {
    "vscode": {
     "languageId": "shellscript"
    }
   },
   "outputs": [],
   "source": [
    "!python -m pytest -v -s test_execution_schedule_gpu.py::test_overlap_gpu_communication"
   ]
  },
  {
   "cell_type": "code",
   "execution_count": null,
   "metadata": {
    "vscode": {
     "languageId": "shellscript"
    }
   },
   "outputs": [],
   "source": [
    "# !python -m pytest -v -s test_execution_schedule.py\n",
    "\n",
    "!python -m pytest -v -s test_execution_schedule_gpu.py\n",
    "# !python -m pytest -v -s test_torch_tensor_dag.py\n",
    "# !python -m pytest -v -s test_accelerated_dag.py\n",
    "\n",
    "# !python -m pytest -v -s test_cpu_communicator_dag.py"
   ]
  }
 ],
 "metadata": {
  "kernelspec": {
   "display_name": "stbr-coll-sched-0512",
   "language": "python",
   "name": "python3"
  },
  "language_info": {
   "codemirror_mode": {
    "name": "ipython",
    "version": 3
   },
   "file_extension": ".py",
   "mimetype": "text/x-python",
   "name": "python",
   "nbconvert_exporter": "python",
   "pygments_lexer": "ipython3",
   "version": "3.13.3"
  }
 },
 "nbformat": 4,
 "nbformat_minor": 2
}

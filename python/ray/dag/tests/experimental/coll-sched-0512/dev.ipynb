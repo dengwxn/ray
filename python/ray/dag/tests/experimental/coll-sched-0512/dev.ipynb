{
 "cells": [
  {
   "cell_type": "code",
   "execution_count": 6,
   "metadata": {},
   "outputs": [],
   "source": [
    "import os\n",
    "os.chdir(\"/home/wxdeng/stbr-min\")"
   ]
  },
  {
   "cell_type": "code",
   "execution_count": 7,
   "metadata": {
    "vscode": {
     "languageId": "shellscript"
    }
   },
   "outputs": [
    {
     "name": "stdout",
     "output_type": "stream",
     "text": [
      "remote: Enumerating objects: 6, done.\u001b[K\n",
      "remote: Counting objects: 100% (6/6), done.\u001b[K\n",
      "remote: Compressing objects: 100% (3/3), done.\u001b[K\n",
      "remote: Total 6 (delta 3), reused 3 (delta 3), pack-reused 0 (from 0)\u001b[K\n",
      "Unpacking objects: 100% (6/6), 3.27 KiB | 1.09 MiB/s, done.\n",
      "From https://github.com/ray-project/ray\n",
      " * branch                  master     -> FETCH_HEAD\n",
      "   ec5cff1540..28c61da1eb  master     -> upstream/master\n",
      "\u001b[1mAll done! ✨ 🍰 ✨\u001b[0m\n",
      "\u001b[34m9 files \u001b[0mleft unchanged.\n",
      "Checking docstyle...\n",
      "Reformatted changed files. Please review and stage the changes.\n",
      "Files updated:\n",
      "\n",
      "python/ray/dag/tests/experimental/coll-sched-0512/dev.ipynb\n",
      "python/ray/dag/tests/experimental/coll-sched-0512/test.ipynb\n",
      "python/ray/dag/tests/experimental/test_collective_dag.py\n",
      "python/ray/dag/tests/experimental/test_torch_tensor_dag.py\n"
     ]
    }
   ],
   "source": [
    "!ci/lint/format.sh"
   ]
  }
 ],
 "metadata": {
  "kernelspec": {
   "display_name": "stbr-coll-sched-0512",
   "language": "python",
   "name": "python3"
  },
  "language_info": {
   "codemirror_mode": {
    "name": "ipython",
    "version": 3
   },
   "file_extension": ".py",
   "mimetype": "text/x-python",
   "name": "python",
   "nbconvert_exporter": "python",
   "pygments_lexer": "ipython3",
   "version": "3.13.3"
  }
 },
 "nbformat": 4,
 "nbformat_minor": 2
}

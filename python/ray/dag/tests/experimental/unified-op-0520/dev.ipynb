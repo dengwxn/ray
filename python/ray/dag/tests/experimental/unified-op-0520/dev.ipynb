{
 "cells": [
  {
   "cell_type": "code",
   "execution_count": 1,
   "metadata": {},
   "outputs": [],
   "source": [
    "import os\n",
    "os.chdir(\"/home/wxdeng/stbr-min\")"
   ]
  },
  {
   "cell_type": "code",
   "execution_count": 2,
   "metadata": {
    "vscode": {
     "languageId": "shellscript"
    }
   },
   "outputs": [
    {
     "name": "stdout",
     "output_type": "stream",
     "text": [
      "From https://github.com/ray-project/ray\n",
      " * branch                  master     -> FETCH_HEAD\n",
      "   4267914531..8883a271d6  master     -> upstream/master\n",
      "\u001b[1mreformatted python/ray/dag/dag_node_operation.py\u001b[0m\n",
      "\u001b[1mreformatted python/ray/dag/tests/experimental/test_execution_schedule.py\u001b[0m\n",
      "\u001b[1mreformatted python/ray/dag/compiled_dag_node.py\u001b[0m\n",
      "\n",
      "\u001b[1mAll done! ✨ 🍰 ✨\u001b[0m\n",
      "\u001b[34m\u001b[1m3 files \u001b[0m\u001b[1mreformatted\u001b[0m, \u001b[34m13 files \u001b[0mleft unchanged.\n",
      "Checking docstyle...\n",
      "Reformatted changed files. Please review and stage the changes.\n",
      "Files updated:\n",
      "\n",
      "python/ray/dag/compiled_dag_node.py\n",
      "python/ray/dag/dag_node_operation.py\n",
      "python/ray/dag/tests/experimental/test_execution_schedule.py\n",
      "python/ray/dag/tests/experimental/unified-op-0520/dev.ipynb\n"
     ]
    }
   ],
   "source": [
    "!ci/lint/format.sh"
   ]
  },
  {
   "cell_type": "code",
   "execution_count": null,
   "metadata": {
    "vscode": {
     "languageId": "shellscript"
    }
   },
   "outputs": [],
   "source": [
    "# !ci/lint/lint.sh pre_commit"
   ]
  }
 ],
 "metadata": {
  "kernelspec": {
   "display_name": "stbr-coll-sched-0512",
   "language": "python",
   "name": "python3"
  },
  "language_info": {
   "codemirror_mode": {
    "name": "ipython",
    "version": 3
   },
   "file_extension": ".py",
   "mimetype": "text/x-python",
   "name": "python",
   "nbconvert_exporter": "python",
   "pygments_lexer": "ipython3",
   "version": "3.13.3"
  }
 },
 "nbformat": 4,
 "nbformat_minor": 2
}

{
 "cells": [
  {
   "cell_type": "code",
   "execution_count": 2,
   "metadata": {},
   "outputs": [],
   "source": [
    "import os\n",
    "os.chdir(\"/home/wxdeng/stbr-min\")"
   ]
  },
  {
   "cell_type": "code",
   "execution_count": 3,
   "metadata": {
    "vscode": {
     "languageId": "shellscript"
    }
   },
   "outputs": [
    {
     "name": "stdout",
     "output_type": "stream",
     "text": [
      "remote: Enumerating objects: 13, done.\u001b[K\n",
      "remote: Counting objects: 100% (13/13), done.\u001b[K\n",
      "remote: Compressing objects: 100% (1/1), done.\u001b[K\n",
      "remote: Total 7 (delta 6), reused 6 (delta 6), pack-reused 0 (from 0)\u001b[K\n",
      "Unpacking objects: 100% (7/7), 1.32 KiB | 450.00 KiB/s, done.\n",
      "From https://github.com/ray-project/ray\n",
      " * branch                  master     -> FETCH_HEAD\n",
      "   8d4822e7a8..79ccb40c90  master     -> upstream/master\n",
      "\u001b[1mreformatted python/ray/dag/tests/experimental/test_execution_schedule.py\u001b[0m\n",
      "\n",
      "\u001b[1mAll done! ✨ 🍰 ✨\u001b[0m\n",
      "\u001b[34m\u001b[1m1 file \u001b[0m\u001b[1mreformatted\u001b[0m, \u001b[34m3 files \u001b[0mleft unchanged.\n",
      "Checking docstyle...\n",
      "Reformatted changed files. Please review and stage the changes.\n",
      "Files updated:\n",
      "\n",
      "python/ray/dag/dag_node_operation.py\n",
      "python/ray/dag/tests/experimental/test_execution_schedule.py\n",
      "python/ray/dag/tests/experimental/test_torch_tensor_dag.py\n",
      "python/ray/dag/tests/experimental/unified-op-0520/dev.ipynb\n",
      "python/ray/dag/tests/experimental/unified-op-0520/test.ipynb\n"
     ]
    }
   ],
   "source": [
    "!ci/lint/format.sh"
   ]
  }
 ],
 "metadata": {
  "kernelspec": {
   "display_name": "stbr-coll-sched-0512",
   "language": "python",
   "name": "python3"
  },
  "language_info": {
   "codemirror_mode": {
    "name": "ipython",
    "version": 3
   },
   "file_extension": ".py",
   "mimetype": "text/x-python",
   "name": "python",
   "nbconvert_exporter": "python",
   "pygments_lexer": "ipython3",
   "version": "3.13.3"
  }
 },
 "nbformat": 4,
 "nbformat_minor": 2
}

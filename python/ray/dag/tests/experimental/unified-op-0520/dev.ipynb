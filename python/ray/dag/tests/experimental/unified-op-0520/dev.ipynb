{
 "cells": [
  {
   "cell_type": "code",
   "execution_count": 1,
   "metadata": {},
   "outputs": [],
   "source": [
    "import os\n",
    "os.chdir(\"/home/wxdeng/stbr-min\")"
   ]
  },
  {
   "cell_type": "code",
   "execution_count": 2,
   "metadata": {
    "vscode": {
     "languageId": "shellscript"
    }
   },
   "outputs": [
    {
     "name": "stdout",
     "output_type": "stream",
     "text": [
      "remote: Enumerating objects: 10, done.\u001b[K\n",
      "remote: Counting objects: 100% (3/3), done.\u001b[K\n",
      "Unpacking objects: 100% (10/10), 1.58 KiB | 811.00 KiB/s, done.\n",
      "remote: Total 10 (delta 2), reused 2 (delta 2), pack-reused 7 (from 2)\u001b[K\n",
      "From https://github.com/ray-project/ray\n",
      " * branch                  master     -> FETCH_HEAD\n",
      "   47933dfe39..350120afe6  master     -> upstream/master\n",
      "\u001b[1mAll done! ✨ 🍰 ✨\u001b[0m\n",
      "\u001b[34m4 files \u001b[0mleft unchanged.\n",
      "Checking docstyle...\n",
      "Reformatted changed files. Please review and stage the changes.\n",
      "Files updated:\n",
      "\n",
      "python/ray/dag/tests/experimental/test_torch_tensor_dag.py\n"
     ]
    }
   ],
   "source": [
    "!ci/lint/format.sh"
   ]
  }
 ],
 "metadata": {
  "kernelspec": {
   "display_name": "stbr-coll-sched-0512",
   "language": "python",
   "name": "python3"
  },
  "language_info": {
   "codemirror_mode": {
    "name": "ipython",
    "version": 3
   },
   "file_extension": ".py",
   "mimetype": "text/x-python",
   "name": "python",
   "nbconvert_exporter": "python",
   "pygments_lexer": "ipython3",
   "version": "3.13.3"
  }
 },
 "nbformat": 4,
 "nbformat_minor": 2
}

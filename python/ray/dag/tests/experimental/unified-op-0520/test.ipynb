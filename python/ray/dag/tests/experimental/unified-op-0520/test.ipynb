{
 "cells": [
  {
   "cell_type": "code",
   "execution_count": 1,
   "metadata": {},
   "outputs": [],
   "source": [
    "import os\n",
    "os.chdir(\"/home/wxdeng/stbr-min/python/ray/dag/tests/experimental\")\n",
    "os.environ[\"RAY_DEDUP_LOGS\"] = \"0\"\n",
    "os.environ[\"RAY_PYTEST_USE_GPU\"] = \"1\"\n",
    "os.environ[\"RAY_CGRAPH_VISUALIZE_SCHEDULE\"] = \"1\""
   ]
  },
  {
   "cell_type": "code",
   "execution_count": 2,
   "metadata": {
    "vscode": {
     "languageId": "shellscript"
    }
   },
   "outputs": [],
   "source": [
    "# !python -m coll-sched-0512.ddp --name ddp_bench"
   ]
  },
  {
   "cell_type": "code",
   "execution_count": 3,
   "metadata": {
    "vscode": {
     "languageId": "shellscript"
    }
   },
   "outputs": [],
   "source": [
    "# !python -m coll-sched-0512.ddp --name ddp"
   ]
  },
  {
   "cell_type": "code",
   "execution_count": 4,
   "metadata": {
    "vscode": {
     "languageId": "shellscript"
    }
   },
   "outputs": [],
   "source": [
    "# !python -m pytest -v -s test_cpu_communicator_dag.py::test_allreduce_wrong_shape"
   ]
  },
  {
   "cell_type": "code",
   "execution_count": 5,
   "metadata": {
    "vscode": {
     "languageId": "shellscript"
    }
   },
   "outputs": [],
   "source": [
    "# !python -m pytest -v -s test_execution_schedule.py::TestSelectNextNodes::test_only_one_nccl_write"
   ]
  },
  {
   "cell_type": "code",
   "execution_count": 21,
   "metadata": {
    "vscode": {
     "languageId": "shellscript"
    }
   },
   "outputs": [
    {
     "name": "stdout",
     "output_type": "stream",
     "text": [
      "\u001b[1m============================= test session starts ==============================\u001b[0m\n",
      "platform linux -- Python 3.13.3, pytest-8.3.5, pluggy-1.5.0 -- /home/wxdeng/miniconda3/envs/stbr-unify/bin/python\n",
      "cachedir: .pytest_cache\n",
      "rootdir: /home/wxdeng/stbr-min\n",
      "configfile: pytest.ini\n",
      "plugins: anyio-4.9.0\n",
      "collected 14 items                                                             \u001b[0m\n",
      "\n",
      "test_execution_schedule.py::TestSelectNextNodes_EXP::test_two_candidates_on_same_actor \u001b[32mPASSED\u001b[0m\n",
      "test_execution_schedule.py::TestSelectNextNodes_EXP::test_only_one_nccl_write \u001b[32mPASSED\u001b[0m\n",
      "test_execution_schedule.py::TestSelectNextNodes_EXP::test_two_nccl_writes \u001b[32mPASSED\u001b[0m\n",
      "test_execution_schedule.py::TestSelectNextNodes_EXP::test_only_one_nccl_collective \u001b[32mPASSED\u001b[0m\n",
      "test_execution_schedule.py::TestSelectNextNodes_EXP::test_two_nccl_collectives \u001b[32mPASSED\u001b[0m\n",
      "test_execution_schedule.py::TestBuildDAGNodeOperationGraph_EXP::test_edge_between_writer_and_reader \u001b[32mPASSED\u001b[0m\n",
      "test_execution_schedule.py::TestBuildDAGNodeOperationGraph_EXP::test_edge_between_compute_nodes \u001b[32mPASSED\u001b[0m\n",
      "test_execution_schedule.py::TestBuildDAGNodeOperationGraph_EXP::test_two_actors \u001b[32mPASSED\u001b[0m\n",
      "test_execution_schedule.py::TestGenerateActorToExecutionSchedule_EXP::test_single_actor_1 \u001b[32mPASSED\u001b[0m\n",
      "test_execution_schedule.py::TestGenerateActorToExecutionSchedule_EXP::test_single_actor_2 \u001b[32mPASSED\u001b[0m\n",
      "test_execution_schedule.py::TestGenerateActorToExecutionSchedule_EXP::test_two_actors_no_nccl \u001b[32mPASSED\u001b[0m\n",
      "test_execution_schedule.py::TestGenerateActorToExecutionSchedule_EXP::test_two_actors_with_nccl \u001b[32mPASSED\u001b[0m\n",
      "test_execution_schedule.py::TestGenerateActorToExecutionSchedule_EXP::test_simulate_pp_2workers_2batches_1f1b_no_nccl \u001b[32mPASSED\u001b[0m\n",
      "test_execution_schedule.py::TestGenerateActorToExecutionSchedule_EXP::test_simulate_pp_2workers_2batches_1f1b_with_nccl \u001b[32mPASSED\u001b[0m\n",
      "\n",
      "\u001b[32m============================== \u001b[32m\u001b[1m14 passed\u001b[0m\u001b[32m in 0.53s\u001b[0m\u001b[32m ==============================\u001b[0m\n",
      "\u001b[0m"
     ]
    }
   ],
   "source": [
    "!python -m pytest -v -s test_execution_schedule.py"
   ]
  },
  {
   "cell_type": "code",
   "execution_count": 22,
   "metadata": {
    "vscode": {
     "languageId": "shellscript"
    }
   },
   "outputs": [
    {
     "name": "stdout",
     "output_type": "stream",
     "text": [
      "\u001b[1m============================= test session starts ==============================\u001b[0m\n",
      "platform linux -- Python 3.13.3, pytest-8.3.5, pluggy-1.5.0 -- /home/wxdeng/miniconda3/envs/stbr-unify/bin/python\n",
      "cachedir: .pytest_cache\n",
      "rootdir: /home/wxdeng/stbr-min\n",
      "configfile: pytest.ini\n",
      "plugins: anyio-4.9.0\n",
      "collected 9 items                                                              \u001b[0m\u001b[1m\n",
      "\n",
      "test_collective_dag.py::test_all_reduce_duplicate_actors[ray_start_regular0] 2025-06-01 20:03:54,503\tINFO worker.py:1917 -- Started a local Ray instance.\n",
      "\u001b[32mPASSED\u001b[0m\n",
      "test_collective_dag.py::test_all_reduce_custom_comm_wrong_actors[ray_start_regular0] 2025-06-01 20:03:57,514\tINFO worker.py:1917 -- Started a local Ray instance.\n",
      "\u001b[32mPASSED\u001b[0m\n",
      "test_collective_dag.py::test_comm_all_reduces[ray_start_regular0] ^C\n"
     ]
    }
   ],
   "source": [
    "!python -m pytest -v -s test_collective_dag.py"
   ]
  },
  {
   "cell_type": "code",
   "execution_count": 23,
   "metadata": {
    "vscode": {
     "languageId": "shellscript"
    }
   },
   "outputs": [
    {
     "name": "stdout",
     "output_type": "stream",
     "text": [
      "\u001b[1m============================= test session starts ==============================\u001b[0m\n",
      "platform linux -- Python 3.13.3, pytest-8.3.5, pluggy-1.5.0 -- /home/wxdeng/miniconda3/envs/stbr-unify/bin/python\n",
      "cachedir: .pytest_cache\n",
      "rootdir: /home/wxdeng/stbr-min\n",
      "configfile: pytest.ini\n",
      "plugins: anyio-4.9.0\n",
      "collected 53 items                                                             \u001b[0m\u001b[1m\n",
      "\n",
      "test_torch_tensor_dag.py::test_torch_tensor_p2p[ray_start_regular0] 2025-06-01 20:04:06,965\tINFO worker.py:1917 -- Started a local Ray instance.\n",
      "2025-06-01 20:04:09,276\tINFO torch_tensor_nccl_channel.py:772 -- Creating NCCL group 4a9be02e-9300-493a-afc4-52e9c7e137f6 on actors: [Actor(TorchTensorWorker, a67ef3c71f3a08e1581cc76001000000), Actor(TorchTensorWorker, 0106480024e573d6e7e3ef6301000000)]\n",
      "2025-06-01 20:04:10,355\tINFO torch_tensor_nccl_channel.py:797 -- NCCL group initialized.\n",
      "2025-06-01 20:04:10,487\tINFO dag_node_operation.py:596 -- Writing compiled graph schedule visualization to compiled_graph_schedule.png\n",
      "\u001b[32mPASSED\u001b[0m2025-06-01 20:04:10,669\tINFO compiled_dag_node.py:2244 -- Tearing down compiled DAG\n",
      "2025-06-01 20:04:10,670\tINFO compiled_dag_node.py:2249 -- Cancelling compiled worker on actor: Actor(TorchTensorWorker, 0106480024e573d6e7e3ef6301000000)\n",
      "2025-06-01 20:04:10,670\tINFO compiled_dag_node.py:2249 -- Cancelling compiled worker on actor: Actor(TorchTensorWorker, a67ef3c71f3a08e1581cc76001000000)\n",
      "\u001b[36m(TorchTensorWorker pid=78411)\u001b[0m Destructing NCCL group on actor: Actor(TorchTensorWorker, a67ef3c71f3a08e1581cc76001000000)\n",
      "\u001b[36m(TorchTensorWorker pid=78410)\u001b[0m Destructing NCCL group on actor: Actor(TorchTensorWorker, 0106480024e573d6e7e3ef6301000000)\n",
      "2025-06-01 20:04:11,158\tINFO compiled_dag_node.py:2271 -- Waiting for worker tasks to exit\n",
      "2025-06-01 20:04:11,158\tINFO compiled_dag_node.py:2232 -- Killing actor: Actor(TorchTensorWorker, 0106480024e573d6e7e3ef6301000000)\n",
      "2025-06-01 20:04:11,159\tINFO compiled_dag_node.py:2232 -- Killing actor: Actor(TorchTensorWorker, a67ef3c71f3a08e1581cc76001000000)\n",
      "2025-06-01 20:04:11,159\tINFO compiled_dag_node.py:2274 -- Teardown complete\n",
      "\n",
      "test_torch_tensor_dag.py::test_torch_tensor_as_dag_input[ray_start_regular0] 2025-06-01 20:04:15,209\tINFO worker.py:1917 -- Started a local Ray instance.\n",
      "2025-06-01 20:04:17,086\tINFO dag_node_operation.py:596 -- Writing compiled graph schedule visualization to compiled_graph_schedule.png\n",
      "\u001b[32mPASSED\u001b[0m2025-06-01 20:04:17,403\tINFO compiled_dag_node.py:2244 -- Tearing down compiled DAG\n",
      "2025-06-01 20:04:17,404\tINFO compiled_dag_node.py:2249 -- Cancelling compiled worker on actor: Actor(TorchTensorWorker, 4176d1b93e4d81a43879a4a001000000)\n",
      "2025-06-01 20:04:17,407\tINFO compiled_dag_node.py:2271 -- Waiting for worker tasks to exit\n",
      "2025-06-01 20:04:17,407\tINFO compiled_dag_node.py:2232 -- Killing actor: Actor(TorchTensorWorker, 4176d1b93e4d81a43879a4a001000000)\n",
      "2025-06-01 20:04:17,407\tINFO compiled_dag_node.py:2274 -- Teardown complete\n",
      "\n",
      "test_torch_tensor_dag.py::test_torch_tensor_nccl[False-False-ray_start_regular0] ^C\n"
     ]
    }
   ],
   "source": [
    "!python -m pytest -v -s test_torch_tensor_dag.py"
   ]
  },
  {
   "cell_type": "code",
   "execution_count": 9,
   "metadata": {
    "vscode": {
     "languageId": "shellscript"
    }
   },
   "outputs": [],
   "source": [
    "# !python -m pytest -v -s test_compiled_graphs.py::test_event_profiling"
   ]
  },
  {
   "cell_type": "code",
   "execution_count": 10,
   "metadata": {
    "vscode": {
     "languageId": "shellscript"
    }
   },
   "outputs": [],
   "source": [
    "# !python -m pytest -v -s test_cpu_communicator_dag.py"
   ]
  },
  {
   "cell_type": "code",
   "execution_count": 11,
   "metadata": {
    "vscode": {
     "languageId": "shellscript"
    }
   },
   "outputs": [],
   "source": [
    "# !python -m pytest -v -s test_execution_schedule_gpu.py"
   ]
  }
 ],
 "metadata": {
  "kernelspec": {
   "display_name": "stbr-coll-sched-0512",
   "language": "python",
   "name": "python3"
  },
  "language_info": {
   "codemirror_mode": {
    "name": "ipython",
    "version": 3
   },
   "file_extension": ".py",
   "mimetype": "text/x-python",
   "name": "python",
   "nbconvert_exporter": "python",
   "pygments_lexer": "ipython3",
   "version": "3.13.3"
  }
 },
 "nbformat": 4,
 "nbformat_minor": 2
}
